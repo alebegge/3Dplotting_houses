{
 "cells": [
  {
   "cell_type": "code",
   "execution_count": 12,
   "id": "21f136fe",
   "metadata": {},
   "outputs": [],
   "source": [
    "import pandas as pd\n",
    "import geopandas as gpd \n",
    "import os\n",
    "import numpy"
   ]
  },
  {
   "cell_type": "code",
   "execution_count": 14,
   "id": "2a924fae",
   "metadata": {
    "scrolled": true
   },
   "outputs": [
    {
     "ename": "DriverError",
     "evalue": "C:\\Users\\alebe\\Documents\\3Dplotting_houses\\resources\\DSM_nl_unzip\\one\\DHMVII_vdc_k01.shp: No such file or directory",
     "output_type": "error",
     "traceback": [
      "\u001b[1;31m---------------------------------------------------------------------------\u001b[0m",
      "\u001b[1;31mCPLE_OpenFailedError\u001b[0m                      Traceback (most recent call last)",
      "File \u001b[1;32mfiona\\_shim.pyx:83\u001b[0m, in \u001b[0;36mfiona._shim.gdal_open_vector\u001b[1;34m()\u001b[0m\n",
      "File \u001b[1;32mfiona\\_err.pyx:291\u001b[0m, in \u001b[0;36mfiona._err.exc_wrap_pointer\u001b[1;34m()\u001b[0m\n",
      "\u001b[1;31mCPLE_OpenFailedError\u001b[0m: C:\\Users\\alebe\\Documents\\3Dplotting_houses\\resources\\DSM_nl_unzip\\one\\DHMVII_vdc_k01.shp: No such file or directory",
      "\nDuring handling of the above exception, another exception occurred:\n",
      "\u001b[1;31mDriverError\u001b[0m                               Traceback (most recent call last)",
      "Input \u001b[1;32mIn [14]\u001b[0m, in \u001b[0;36m<module>\u001b[1;34m\u001b[0m\n\u001b[0;32m      1\u001b[0m path_shapefile \u001b[38;5;241m=\u001b[39m \u001b[38;5;124mr\u001b[39m\u001b[38;5;124m\"\u001b[39m\u001b[38;5;124mC:\u001b[39m\u001b[38;5;124m\\\u001b[39m\u001b[38;5;124mUsers\u001b[39m\u001b[38;5;124m\\\u001b[39m\u001b[38;5;124malebe\u001b[39m\u001b[38;5;124m\\\u001b[39m\u001b[38;5;124mDocuments\u001b[39m\u001b[38;5;124m\\\u001b[39m\u001b[38;5;124m3Dplotting_houses\u001b[39m\u001b[38;5;124m\\\u001b[39m\u001b[38;5;124mresources\u001b[39m\u001b[38;5;124m\\\u001b[39m\u001b[38;5;124mDSM_nl_unzip\u001b[39m\u001b[38;5;124m\\\u001b[39m\u001b[38;5;124mone\u001b[39m\u001b[38;5;124m\\\u001b[39m\u001b[38;5;124mDHMVII_vdc_k01.shp\u001b[39m\u001b[38;5;124m\"\u001b[39m\n\u001b[1;32m----> 2\u001b[0m shape_file \u001b[38;5;241m=\u001b[39m \u001b[43mgpd\u001b[49m\u001b[38;5;241;43m.\u001b[39;49m\u001b[43mread_file\u001b[49m\u001b[43m(\u001b[49m\u001b[43mpath_shapefile\u001b[49m\u001b[43m)\u001b[49m\n",
      "File \u001b[1;32m~\\Envs\\3Dhouses\\lib\\site-packages\\geopandas\\io\\file.py:201\u001b[0m, in \u001b[0;36m_read_file\u001b[1;34m(filename, bbox, mask, rows, **kwargs)\u001b[0m\n\u001b[0;32m    198\u001b[0m     reader \u001b[38;5;241m=\u001b[39m fiona\u001b[38;5;241m.\u001b[39mopen\n\u001b[0;32m    200\u001b[0m \u001b[38;5;28;01mwith\u001b[39;00m fiona_env():\n\u001b[1;32m--> 201\u001b[0m     \u001b[38;5;28;01mwith\u001b[39;00m reader(path_or_bytes, \u001b[38;5;241m*\u001b[39m\u001b[38;5;241m*\u001b[39mkwargs) \u001b[38;5;28;01mas\u001b[39;00m features:\n\u001b[0;32m    202\u001b[0m \n\u001b[0;32m    203\u001b[0m         \u001b[38;5;66;03m# In a future Fiona release the crs attribute of features will\u001b[39;00m\n\u001b[0;32m    204\u001b[0m         \u001b[38;5;66;03m# no longer be a dict, but will behave like a dict. So this should\u001b[39;00m\n\u001b[0;32m    205\u001b[0m         \u001b[38;5;66;03m# be forwards compatible\u001b[39;00m\n\u001b[0;32m    206\u001b[0m         crs \u001b[38;5;241m=\u001b[39m (\n\u001b[0;32m    207\u001b[0m             features\u001b[38;5;241m.\u001b[39mcrs[\u001b[38;5;124m\"\u001b[39m\u001b[38;5;124minit\u001b[39m\u001b[38;5;124m\"\u001b[39m]\n\u001b[0;32m    208\u001b[0m             \u001b[38;5;28;01mif\u001b[39;00m features\u001b[38;5;241m.\u001b[39mcrs \u001b[38;5;129;01mand\u001b[39;00m \u001b[38;5;124m\"\u001b[39m\u001b[38;5;124minit\u001b[39m\u001b[38;5;124m\"\u001b[39m \u001b[38;5;129;01min\u001b[39;00m features\u001b[38;5;241m.\u001b[39mcrs\n\u001b[0;32m    209\u001b[0m             \u001b[38;5;28;01melse\u001b[39;00m features\u001b[38;5;241m.\u001b[39mcrs_wkt\n\u001b[0;32m    210\u001b[0m         )\n\u001b[0;32m    212\u001b[0m         \u001b[38;5;66;03m# handle loading the bounding box\u001b[39;00m\n",
      "File \u001b[1;32m~\\Envs\\3Dhouses\\lib\\site-packages\\fiona\\env.py:408\u001b[0m, in \u001b[0;36mensure_env_with_credentials.<locals>.wrapper\u001b[1;34m(*args, **kwargs)\u001b[0m\n\u001b[0;32m    405\u001b[0m \u001b[38;5;129m@wraps\u001b[39m(f)\n\u001b[0;32m    406\u001b[0m \u001b[38;5;28;01mdef\u001b[39;00m \u001b[38;5;21mwrapper\u001b[39m(\u001b[38;5;241m*\u001b[39margs, \u001b[38;5;241m*\u001b[39m\u001b[38;5;241m*\u001b[39mkwargs):\n\u001b[0;32m    407\u001b[0m     \u001b[38;5;28;01mif\u001b[39;00m local\u001b[38;5;241m.\u001b[39m_env:\n\u001b[1;32m--> 408\u001b[0m         \u001b[38;5;28;01mreturn\u001b[39;00m f(\u001b[38;5;241m*\u001b[39margs, \u001b[38;5;241m*\u001b[39m\u001b[38;5;241m*\u001b[39mkwargs)\n\u001b[0;32m    409\u001b[0m     \u001b[38;5;28;01melse\u001b[39;00m:\n\u001b[0;32m    410\u001b[0m         \u001b[38;5;28;01mif\u001b[39;00m \u001b[38;5;28misinstance\u001b[39m(args[\u001b[38;5;241m0\u001b[39m], \u001b[38;5;28mstr\u001b[39m):\n",
      "File \u001b[1;32m~\\Envs\\3Dhouses\\lib\\site-packages\\fiona\\__init__.py:267\u001b[0m, in \u001b[0;36mopen\u001b[1;34m(fp, mode, driver, schema, crs, encoding, layer, vfs, enabled_drivers, crs_wkt, **kwargs)\u001b[0m\n\u001b[0;32m    264\u001b[0m     path \u001b[38;5;241m=\u001b[39m parse_path(fp)\n\u001b[0;32m    266\u001b[0m \u001b[38;5;28;01mif\u001b[39;00m mode \u001b[38;5;129;01min\u001b[39;00m (\u001b[38;5;124m'\u001b[39m\u001b[38;5;124ma\u001b[39m\u001b[38;5;124m'\u001b[39m, \u001b[38;5;124m'\u001b[39m\u001b[38;5;124mr\u001b[39m\u001b[38;5;124m'\u001b[39m):\n\u001b[1;32m--> 267\u001b[0m     c \u001b[38;5;241m=\u001b[39m Collection(path, mode, driver\u001b[38;5;241m=\u001b[39mdriver, encoding\u001b[38;5;241m=\u001b[39mencoding,\n\u001b[0;32m    268\u001b[0m                    layer\u001b[38;5;241m=\u001b[39mlayer, enabled_drivers\u001b[38;5;241m=\u001b[39menabled_drivers, \u001b[38;5;241m*\u001b[39m\u001b[38;5;241m*\u001b[39mkwargs)\n\u001b[0;32m    269\u001b[0m \u001b[38;5;28;01melif\u001b[39;00m mode \u001b[38;5;241m==\u001b[39m \u001b[38;5;124m'\u001b[39m\u001b[38;5;124mw\u001b[39m\u001b[38;5;124m'\u001b[39m:\n\u001b[0;32m    270\u001b[0m     \u001b[38;5;28;01mif\u001b[39;00m schema:\n\u001b[0;32m    271\u001b[0m         \u001b[38;5;66;03m# Make an ordered dict of schema properties.\u001b[39;00m\n",
      "File \u001b[1;32m~\\Envs\\3Dhouses\\lib\\site-packages\\fiona\\collection.py:162\u001b[0m, in \u001b[0;36mCollection.__init__\u001b[1;34m(self, path, mode, driver, schema, crs, encoding, layer, vsi, archive, enabled_drivers, crs_wkt, ignore_fields, ignore_geometry, **kwargs)\u001b[0m\n\u001b[0;32m    160\u001b[0m \u001b[38;5;28;01mif\u001b[39;00m \u001b[38;5;28mself\u001b[39m\u001b[38;5;241m.\u001b[39mmode \u001b[38;5;241m==\u001b[39m \u001b[38;5;124m'\u001b[39m\u001b[38;5;124mr\u001b[39m\u001b[38;5;124m'\u001b[39m:\n\u001b[0;32m    161\u001b[0m     \u001b[38;5;28mself\u001b[39m\u001b[38;5;241m.\u001b[39msession \u001b[38;5;241m=\u001b[39m Session()\n\u001b[1;32m--> 162\u001b[0m     \u001b[38;5;28mself\u001b[39m\u001b[38;5;241m.\u001b[39msession\u001b[38;5;241m.\u001b[39mstart(\u001b[38;5;28mself\u001b[39m, \u001b[38;5;241m*\u001b[39m\u001b[38;5;241m*\u001b[39mkwargs)\n\u001b[0;32m    163\u001b[0m \u001b[38;5;28;01melif\u001b[39;00m \u001b[38;5;28mself\u001b[39m\u001b[38;5;241m.\u001b[39mmode \u001b[38;5;129;01min\u001b[39;00m (\u001b[38;5;124m'\u001b[39m\u001b[38;5;124ma\u001b[39m\u001b[38;5;124m'\u001b[39m, \u001b[38;5;124m'\u001b[39m\u001b[38;5;124mw\u001b[39m\u001b[38;5;124m'\u001b[39m):\n\u001b[0;32m    164\u001b[0m     \u001b[38;5;28mself\u001b[39m\u001b[38;5;241m.\u001b[39msession \u001b[38;5;241m=\u001b[39m WritingSession()\n",
      "File \u001b[1;32mfiona\\ogrext.pyx:540\u001b[0m, in \u001b[0;36mfiona.ogrext.Session.start\u001b[1;34m()\u001b[0m\n",
      "File \u001b[1;32mfiona\\_shim.pyx:90\u001b[0m, in \u001b[0;36mfiona._shim.gdal_open_vector\u001b[1;34m()\u001b[0m\n",
      "\u001b[1;31mDriverError\u001b[0m: C:\\Users\\alebe\\Documents\\3Dplotting_houses\\resources\\DSM_nl_unzip\\one\\DHMVII_vdc_k01.shp: No such file or directory"
     ]
    }
   ],
   "source": [
    "path_shapefile = r\"C:\\Users\\alebe\\Documents\\3Dplotting_houses\\resources\\DSM_nl_unzip\\one\\DHMVII_vdc_k01.shp\"\n",
    "shape_file = gpd.read_file(path_shapefile)"
   ]
  },
  {
   "cell_type": "code",
   "execution_count": 6,
   "id": "5f1a02e4",
   "metadata": {},
   "outputs": [
    {
     "data": {
      "text/html": [
       "<div>\n",
       "<style scoped>\n",
       "    .dataframe tbody tr th:only-of-type {\n",
       "        vertical-align: middle;\n",
       "    }\n",
       "\n",
       "    .dataframe tbody tr th {\n",
       "        vertical-align: top;\n",
       "    }\n",
       "\n",
       "    .dataframe thead th {\n",
       "        text-align: right;\n",
       "    }\n",
       "</style>\n",
       "<table border=\"1\" class=\"dataframe\">\n",
       "  <thead>\n",
       "    <tr style=\"text-align: right;\">\n",
       "      <th></th>\n",
       "      <th>Id</th>\n",
       "      <th>OpnDatum1</th>\n",
       "      <th>OpnDatum2</th>\n",
       "      <th>geometry</th>\n",
       "    </tr>\n",
       "  </thead>\n",
       "  <tbody>\n",
       "    <tr>\n",
       "      <th>0</th>\n",
       "      <td>0</td>\n",
       "      <td>2013-02-20</td>\n",
       "      <td>None</td>\n",
       "      <td>MULTIPOLYGON Z (((162079.010 238604.770 0.000,...</td>\n",
       "    </tr>\n",
       "    <tr>\n",
       "      <th>1</th>\n",
       "      <td>0</td>\n",
       "      <td>2013-04-01</td>\n",
       "      <td>None</td>\n",
       "      <td>POLYGON Z ((148803.300 243432.780 0.000, 14882...</td>\n",
       "    </tr>\n",
       "    <tr>\n",
       "      <th>2</th>\n",
       "      <td>0</td>\n",
       "      <td>2013-02-20</td>\n",
       "      <td>2013-04-01</td>\n",
       "      <td>MULTIPOLYGON Z (((156554.470 243736.800 0.000,...</td>\n",
       "    </tr>\n",
       "  </tbody>\n",
       "</table>\n",
       "</div>"
      ],
      "text/plain": [
       "   Id   OpnDatum1   OpnDatum2  \\\n",
       "0   0  2013-02-20        None   \n",
       "1   0  2013-04-01        None   \n",
       "2   0  2013-02-20  2013-04-01   \n",
       "\n",
       "                                            geometry  \n",
       "0  MULTIPOLYGON Z (((162079.010 238604.770 0.000,...  \n",
       "1  POLYGON Z ((148803.300 243432.780 0.000, 14882...  \n",
       "2  MULTIPOLYGON Z (((156554.470 243736.800 0.000,...  "
      ]
     },
     "execution_count": 6,
     "metadata": {},
     "output_type": "execute_result"
    }
   ],
   "source": [
    "shape_file"
   ]
  },
  {
   "cell_type": "code",
   "execution_count": 7,
   "id": "e363f03d",
   "metadata": {},
   "outputs": [
    {
     "name": "stdout",
     "output_type": "stream",
     "text": [
      "<class 'geopandas.geodataframe.GeoDataFrame'>\n"
     ]
    }
   ],
   "source": [
    "print(type(shape_file))"
   ]
  },
  {
   "cell_type": "code",
   "execution_count": 9,
   "id": "bf66b0c0",
   "metadata": {},
   "outputs": [
    {
     "data": {
      "text/plain": [
       "(3, 4)"
      ]
     },
     "execution_count": 9,
     "metadata": {},
     "output_type": "execute_result"
    }
   ],
   "source": [
    "shape_file.shape"
   ]
  },
  {
   "cell_type": "code",
   "execution_count": 10,
   "id": "afa2bdd4",
   "metadata": {},
   "outputs": [],
   "source": [
    "df1 = shape_file[\"geometry\"]"
   ]
  },
  {
   "cell_type": "code",
   "execution_count": 11,
   "id": "0e918224",
   "metadata": {},
   "outputs": [
    {
     "data": {
      "text/plain": [
       "0    MULTIPOLYGON Z (((162079.010 238604.770 0.000,...\n",
       "1    POLYGON Z ((148803.300 243432.780 0.000, 14882...\n",
       "2    MULTIPOLYGON Z (((156554.470 243736.800 0.000,...\n",
       "Name: geometry, dtype: geometry"
      ]
     },
     "execution_count": 11,
     "metadata": {},
     "output_type": "execute_result"
    }
   ],
   "source": [
    "df1"
   ]
  },
  {
   "cell_type": "code",
   "execution_count": 13,
   "id": "e385eebb",
   "metadata": {
    "scrolled": true
   },
   "outputs": [
    {
     "data": {
      "text/plain": [
       "array([<shapely.geometry.multipolygon.MultiPolygon object at 0x0000023E675470A0>,\n",
       "       <shapely.geometry.polygon.Polygon object at 0x0000023E67546BF0>,\n",
       "       <shapely.geometry.multipolygon.MultiPolygon object at 0x0000023E6ED0D4E0>],\n",
       "      dtype=object)"
      ]
     },
     "execution_count": 13,
     "metadata": {},
     "output_type": "execute_result"
    }
   ],
   "source": [
    "df1.to_numpy()"
   ]
  },
  {
   "cell_type": "code",
   "execution_count": 43,
   "id": "978d61cf",
   "metadata": {
    "scrolled": true
   },
   "outputs": [
    {
     "data": {
      "text/html": [
       "<div>\n",
       "<style scoped>\n",
       "    .dataframe tbody tr th:only-of-type {\n",
       "        vertical-align: middle;\n",
       "    }\n",
       "\n",
       "    .dataframe tbody tr th {\n",
       "        vertical-align: top;\n",
       "    }\n",
       "\n",
       "    .dataframe thead th {\n",
       "        text-align: right;\n",
       "    }\n",
       "</style>\n",
       "<table border=\"1\" class=\"dataframe\">\n",
       "  <thead>\n",
       "    <tr style=\"text-align: right;\">\n",
       "      <th></th>\n",
       "      <th>Date</th>\n",
       "      <th>OpnDatum1</th>\n",
       "      <th>OpnDatum2</th>\n",
       "      <th>geometry</th>\n",
       "    </tr>\n",
       "  </thead>\n",
       "  <tbody>\n",
       "    <tr>\n",
       "      <th>0</th>\n",
       "      <td>20140129</td>\n",
       "      <td>2014-01-29</td>\n",
       "      <td>None</td>\n",
       "      <td>MULTIPOLYGON (((179000.000 250000.000, 179000....</td>\n",
       "    </tr>\n",
       "    <tr>\n",
       "      <th>1</th>\n",
       "      <td>20140130</td>\n",
       "      <td>2014-01-29</td>\n",
       "      <td>2014-01-30</td>\n",
       "      <td>MULTIPOLYGON (((163129.570 245991.310, 163134....</td>\n",
       "    </tr>\n",
       "    <tr>\n",
       "      <th>2</th>\n",
       "      <td>20140130</td>\n",
       "      <td>2014-01-30</td>\n",
       "      <td>None</td>\n",
       "      <td>MULTIPOLYGON (((186898.890 245675.080, 186912....</td>\n",
       "    </tr>\n",
       "    <tr>\n",
       "      <th>3</th>\n",
       "      <td>20140131</td>\n",
       "      <td>2014-01-30</td>\n",
       "      <td>2014-01-31</td>\n",
       "      <td>MULTIPOLYGON (((162674.340 244285.030, 162723....</td>\n",
       "    </tr>\n",
       "    <tr>\n",
       "      <th>4</th>\n",
       "      <td>20140131</td>\n",
       "      <td>2014-01-31</td>\n",
       "      <td>None</td>\n",
       "      <td>POLYGON ((178423.360 243934.510, 178436.570 24...</td>\n",
       "    </tr>\n",
       "    <tr>\n",
       "      <th>5</th>\n",
       "      <td>20140202</td>\n",
       "      <td>2014-01-31</td>\n",
       "      <td>2014-02-02</td>\n",
       "      <td>POLYGON ((182501.420 241115.160, 182544.540 24...</td>\n",
       "    </tr>\n",
       "    <tr>\n",
       "      <th>6</th>\n",
       "      <td>20140202</td>\n",
       "      <td>2014-02-02</td>\n",
       "      <td>None</td>\n",
       "      <td>POLYGON ((175723.990 240819.240, 175725.710 24...</td>\n",
       "    </tr>\n",
       "  </tbody>\n",
       "</table>\n",
       "</div>"
      ],
      "text/plain": [
       "       Date   OpnDatum1   OpnDatum2  \\\n",
       "0  20140129  2014-01-29        None   \n",
       "1  20140130  2014-01-29  2014-01-30   \n",
       "2  20140130  2014-01-30        None   \n",
       "3  20140131  2014-01-30  2014-01-31   \n",
       "4  20140131  2014-01-31        None   \n",
       "5  20140202  2014-01-31  2014-02-02   \n",
       "6  20140202  2014-02-02        None   \n",
       "\n",
       "                                            geometry  \n",
       "0  MULTIPOLYGON (((179000.000 250000.000, 179000....  \n",
       "1  MULTIPOLYGON (((163129.570 245991.310, 163134....  \n",
       "2  MULTIPOLYGON (((186898.890 245675.080, 186912....  \n",
       "3  MULTIPOLYGON (((162674.340 244285.030, 162723....  \n",
       "4  POLYGON ((178423.360 243934.510, 178436.570 24...  \n",
       "5  POLYGON ((182501.420 241115.160, 182544.540 24...  \n",
       "6  POLYGON ((175723.990 240819.240, 175725.710 24...  "
      ]
     },
     "execution_count": 43,
     "metadata": {},
     "output_type": "execute_result"
    }
   ],
   "source": [
    "shape_file_2 = gpd.read_file(r\"C:\\Users\\alebe\\Documents\\3Dplotting_houses\\resources\\DSM_nl_unzip\\DSM_NL_02\\DHMVII_vdc_k02\")\n",
    "shape_file_2"
   ]
  },
  {
   "cell_type": "code",
   "execution_count": 31,
   "id": "5ff62fbb",
   "metadata": {},
   "outputs": [
    {
     "data": {
      "text/plain": [
       "array([162000.00012207, 238000.00012207, 194000.00012207, 250000.00012207])"
      ]
     },
     "execution_count": 31,
     "metadata": {},
     "output_type": "execute_result"
    }
   ],
   "source": [
    "shape_file_2.total_bounds_bounds"
   ]
  },
  {
   "cell_type": "code",
   "execution_count": 34,
   "id": "6f4e1552",
   "metadata": {},
   "outputs": [
    {
     "data": {
      "text/plain": [
       "0    MultiPolygon\n",
       "1    MultiPolygon\n",
       "2    MultiPolygon\n",
       "3    MultiPolygon\n",
       "4         Polygon\n",
       "5         Polygon\n",
       "6         Polygon\n",
       "dtype: object"
      ]
     },
     "execution_count": 34,
     "metadata": {},
     "output_type": "execute_result"
    }
   ],
   "source": [
    "shape_file_2.geom_type"
   ]
  },
  {
   "cell_type": "code",
   "execution_count": 41,
   "id": "64b34028",
   "metadata": {},
   "outputs": [
    {
     "ename": "AttributeError",
     "evalue": "module 'matplotlib' has no attribute 'show'",
     "output_type": "error",
     "traceback": [
      "\u001b[1;31m---------------------------------------------------------------------------\u001b[0m",
      "\u001b[1;31mAttributeError\u001b[0m                            Traceback (most recent call last)",
      "Input \u001b[1;32mIn [41]\u001b[0m, in \u001b[0;36m<module>\u001b[1;34m\u001b[0m\n\u001b[0;32m      2\u001b[0m \u001b[38;5;66;03m# fig, ax = plt.subplots(figsize = (10,10))\u001b[39;00m\n\u001b[0;32m      3\u001b[0m shape_file_2\u001b[38;5;241m.\u001b[39mplot()\n\u001b[1;32m----> 4\u001b[0m \u001b[43mplt\u001b[49m\u001b[38;5;241;43m.\u001b[39;49m\u001b[43mshow\u001b[49m()\n",
      "File \u001b[1;32m~\\Envs\\3Dhouses\\lib\\site-packages\\matplotlib\\_api\\__init__.py:222\u001b[0m, in \u001b[0;36mcaching_module_getattr.<locals>.__getattr__\u001b[1;34m(name)\u001b[0m\n\u001b[0;32m    220\u001b[0m \u001b[38;5;28;01mif\u001b[39;00m name \u001b[38;5;129;01min\u001b[39;00m props:\n\u001b[0;32m    221\u001b[0m     \u001b[38;5;28;01mreturn\u001b[39;00m props[name]\u001b[38;5;241m.\u001b[39m\u001b[38;5;21m__get__\u001b[39m(instance)\n\u001b[1;32m--> 222\u001b[0m \u001b[38;5;28;01mraise\u001b[39;00m \u001b[38;5;167;01mAttributeError\u001b[39;00m(\n\u001b[0;32m    223\u001b[0m     \u001b[38;5;124mf\u001b[39m\u001b[38;5;124m\"\u001b[39m\u001b[38;5;124mmodule \u001b[39m\u001b[38;5;132;01m{\u001b[39;00m\u001b[38;5;28mcls\u001b[39m\u001b[38;5;241m.\u001b[39m\u001b[38;5;18m__module__\u001b[39m\u001b[38;5;132;01m!r}\u001b[39;00m\u001b[38;5;124m has no attribute \u001b[39m\u001b[38;5;132;01m{\u001b[39;00mname\u001b[38;5;132;01m!r}\u001b[39;00m\u001b[38;5;124m\"\u001b[39m)\n",
      "\u001b[1;31mAttributeError\u001b[0m: module 'matplotlib' has no attribute 'show'"
     ]
    },
    {
     "data": {
      "image/png": "[encoded data removed]",
      "text/plain": [
       "<Figure size 432x288 with 1 Axes>"
      ]
     },
     "metadata": {
      "needs_background": "light"
     },
     "output_type": "display_data"
    }
   ],
   "source": [
    "import matplotlib as plt\n",
    "# fig, ax = plt.subplots(figsize = (10,10))\n",
    "shape_file_2.plot()\n",
    "plt.show()"
   ]
  },
  {
   "cell_type": "code",
   "execution_count": 60,
   "id": "54fd8275",
   "metadata": {},
   "outputs": [
    {
     "data": {
      "image/png": "[encoded data removed]",
      "text/plain": [
       "<Figure size 432x288 with 1 Axes>"
      ]
     },
     "metadata": {
      "needs_background": "light"
     },
     "output_type": "display_data"
    },
    {
     "name": "stdout",
     "output_type": "stream",
     "text": [
      "C:\\Users\\alebe\\Documents\\3Dplotting_houses\\resources\\DSM_nl_unzip\\DSM_NL_02\\GeoTIFF\\DHMVIIDSMRAS1m_k02.tif\n"
     ]
    }
   ],
   "source": [
    "import rasterio \n",
    "import rasterio.plot \n",
    "import os\n",
    "from pathlib import Path\n",
    "\n",
    "file_path = os.path.join(os.path.abspath(''), Path(\"resources\\DSM_nl_unzip\\DSM_NL_02\\GeoTIFF\\DHMVIIDSMRAS1m_k02.tif\"))\n",
    "tiff = rasterio.open(file_path)\n",
    "rasterio.plot.show(tiff, title=\"open retard\")\n",
    "print(file_path)\n"
   ]
  },
  {
   "cell_type": "code",
   "execution_count": 61,
   "id": "44b6ae52",
   "metadata": {},
   "outputs": [
    {
     "data": {
      "text/plain": [
       "rasterio.io.DatasetReader"
      ]
     },
     "execution_count": 61,
     "metadata": {},
     "output_type": "execute_result"
    }
   ],
   "source": [
    "type(tiff)"
   ]
  },
  {
   "cell_type": "code",
   "execution_count": 62,
   "id": "3f65ff0d",
   "metadata": {},
   "outputs": [
    {
     "data": {
      "text/plain": [
       "(12000, 32000)"
      ]
     },
     "execution_count": 62,
     "metadata": {},
     "output_type": "execute_result"
    }
   ],
   "source": [
    "tiff.shape"
   ]
  },
  {
   "cell_type": "code",
   "execution_count": 63,
   "id": "78c211ec",
   "metadata": {},
   "outputs": [
    {
     "data": {
      "text/plain": [
       "<open DatasetReader name='C:/Users/alebe/Documents/3Dplotting_houses/resources/DSM_nl_unzip/DSM_NL_02/GeoTIFF/DHMVIIDSMRAS1m_k02.tif' mode='r'>"
      ]
     },
     "execution_count": 63,
     "metadata": {},
     "output_type": "execute_result"
    }
   ],
   "source": [
    "tiff"
   ]
  },
  {
   "cell_type": "code",
   "execution_count": 66,
   "id": "ca41f234",
   "metadata": {},
   "outputs": [
    {
     "data": {
      "text/plain": [
       "1"
      ]
     },
     "execution_count": 66,
     "metadata": {},
     "output_type": "execute_result"
    }
   ],
   "source": [
    "tiff.count"
   ]
  },
  {
   "cell_type": "code",
   "execution_count": 67,
   "id": "f401ffd7",
   "metadata": {},
   "outputs": [
    {
     "data": {
      "text/plain": [
       "BoundingBox(left=162000.0, bottom=238000.0, right=194000.0, top=250000.0)"
      ]
     },
     "execution_count": 67,
     "metadata": {},
     "output_type": "execute_result"
    }
   ],
   "source": [
    "tiff.bounds"
   ]
  },
  {
   "cell_type": "code",
   "execution_count": 68,
   "id": "eef0e9a5",
   "metadata": {},
   "outputs": [
    {
     "data": {
      "text/plain": [
       "32000"
      ]
     },
     "execution_count": 68,
     "metadata": {},
     "output_type": "execute_result"
    }
   ],
   "source": [
    "tiff.width"
   ]
  },
  {
   "cell_type": "code",
   "execution_count": 74,
   "id": "6567a5e7",
   "metadata": {
    "scrolled": false
   },
   "outputs": [
    {
     "data": {
      "text/plain": [
       "0"
      ]
     },
     "execution_count": 74,
     "metadata": {},
     "output_type": "execute_result"
    }
   ],
   "source": [
    "from osgeo import osr, gdal\n",
    "ds = gdal.Open(file_path)\n",
    "old_cs = osr.SpatialReference()\n",
    "old_cs.ImportFromWkt(ds.GetProjectionRef())"
   ]
  },
  {
   "cell_type": "code",
   "execution_count": 79,
   "id": "a3b5a1f7",
   "metadata": {
    "scrolled": false
   },
   "outputs": [
    {
     "data": {
      "text/plain": [
       "'Driver: GTiff/GeoTIFF\\nFiles: C:\\\\Users\\\\alebe\\\\Documents\\\\3Dplotting_houses\\\\resources\\\\DSM_nl_unzip\\\\DSM_NL_02\\\\GeoTIFF\\\\DHMVIIDSMRAS1m_k02.tif\\nSize is 32000, 12000\\nCoordinate System is:\\nPROJCRS[\"BD72 / Belgian Lambert 72\",\\n    BASEGEOGCRS[\"BD72\",\\n        DATUM[\"Reseau National Belge 1972\",\\n            ELLIPSOID[\"International 1924\",6378388,297,\\n                LENGTHUNIT[\"metre\",1]]],\\n        PRIMEM[\"Greenwich\",0,\\n            ANGLEUNIT[\"degree\",0.0174532925199433]],\\n        ID[\"EPSG\",4313]],\\n    CONVERSION[\"Belgian Lambert 72\",\\n        METHOD[\"Lambert Conic Conformal (2SP)\",\\n            ID[\"EPSG\",9802]],\\n        PARAMETER[\"Latitude of false origin\",90,\\n            ANGLEUNIT[\"degree\",0.0174532925199433],\\n            ID[\"EPSG\",8821]],\\n        PARAMETER[\"Longitude of false origin\",4.36748666666667,\\n            ANGLEUNIT[\"degree\",0.0174532925199433],\\n            ID[\"EPSG\",8822]],\\n        PARAMETER[\"Latitude of 1st standard parallel\",51.1666672333333,\\n            ANGLEUNIT[\"degree\",0.0174532925199433],\\n            ID[\"EPSG\",8823]],\\n        PARAMETER[\"Latitude of 2nd standard parallel\",49.8333339,\\n            ANGLEUNIT[\"degree\",0.0174532925199433],\\n            ID[\"EPSG\",8824]],\\n        PARAMETER[\"Easting at false origin\",150000.013,\\n            LENGTHUNIT[\"metre\",1],\\n            ID[\"EPSG\",8826]],\\n        PARAMETER[\"Northing at false origin\",5400088.438,\\n            LENGTHUNIT[\"metre\",1],\\n            ID[\"EPSG\",8827]]],\\n    CS[Cartesian,2],\\n        AXIS[\"easting (X)\",east,\\n            ORDER[1],\\n            LENGTHUNIT[\"metre\",1]],\\n        AXIS[\"northing (Y)\",north,\\n            ORDER[2],\\n            LENGTHUNIT[\"metre\",1]],\\n    USAGE[\\n        SCOPE[\"Engineering survey, topographic mapping.\"],\\n        AREA[\"Belgium - onshore.\"],\\n        BBOX[49.5,2.5,51.51,6.4]],\\n    ID[\"EPSG\",31370]]\\nData axis to CRS axis mapping: 1,2\\nOrigin = (162000.000000000000000,250000.000000000000000)\\nPixel Size = (1.000000000000000,-1.000000000000000)\\nMetadata:\\n  AREA_OR_POINT=Area\\n  VERTICAL_SRS=EPSG:5110\\nImage Structure Metadata:\\n  COMPRESSION=DEFLATE\\n  INTERLEAVE=BAND\\nCorner Coordinates:\\nUpper Left  (  162000.000,  250000.000) (  4d32\\'25.79\"E, 51d33\\'35.57\"N)\\nLower Left  (  162000.000,  238000.000) (  4d32\\'24.34\"E, 51d27\\' 7.34\"N)\\nUpper Right (  194000.000,  250000.000) (  5d 0\\' 6.64\"E, 51d33\\'29.95\"N)\\nLower Right (  194000.000,  238000.000) (  5d 0\\' 1.33\"E, 51d27\\' 1.72\"N)\\nCenter      (  178000.000,  244000.000) (  4d46\\'14.54\"E, 51d30\\'19.45\"N)\\nBand 1 Block=512x512 Type=Float32, ColorInterp=Gray\\n  NoData Value=-9999\\n  Overviews: 16000x6000, 8000x3000, 4000x1500, 2000x750, 1000x375, 500x188, 250x94, 125x47, 63x24, 32x12\\n'"
      ]
     },
     "execution_count": 79,
     "metadata": {},
     "output_type": "execute_result"
    }
   ],
   "source": [
    "gdal.Info(file_path, deserialize=False)"
   ]
  }
 ],
 "metadata": {
  "kernelspec": {
   "display_name": "Python 3 (ipykernel)",
   "language": "python",
   "name": "python3"
  },
  "language_info": {
   "codemirror_mode": {
    "name": "ipython",
    "version": 3
   },
   "file_extension": ".py",
   "mimetype": "text/x-python",
   "name": "python",
   "nbconvert_exporter": "python",
   "pygments_lexer": "ipython3",
   "version": "3.10.1"
  }
 },
 "nbformat": 4,
 "nbformat_minor": 5
}
